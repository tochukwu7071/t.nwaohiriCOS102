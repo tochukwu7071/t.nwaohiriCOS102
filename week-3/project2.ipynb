{
 "cells": [
  {
   "cell_type": "code",
   "execution_count": 2,
   "id": "b97f31e0-c2c6-4db1-aeaa-779d05516f8f",
   "metadata": {},
   "outputs": [
    {
     "name": "stdin",
     "output_type": "stream",
     "text": [
      "Enter years of experience:  79\n",
      "Enter age:  100\n"
     ]
    },
    {
     "name": "stdout",
     "output_type": "stream",
     "text": [
      "The Annual Tax Revenue (ATR) is: N5,600,000\n"
     ]
    }
   ],
   "source": [
    "def calculate_atr(experience, age):\n",
    "    if experience > 25 and age >= 55:\n",
    "        return 5600000\n",
    "    elif experience > 20 and age >= 45:\n",
    "        return 4480000\n",
    "    elif experience > 10 and age >= 35:\n",
    "        return 1500000\n",
    "    else:\n",
    "        return 550000\n",
    "\n",
    "# Get user input\n",
    "experience = int(input(\"Enter years of experience: \"))\n",
    "age = int(input(\"Enter age: \"))\n",
    "\n",
    "# Calculate and display ATR\n",
    "atr = calculate_atr(experience, age)\n",
    "print(f\"The Annual Tax Revenue (ATR) is: N{atr:,}\")"
   ]
  },
  {
   "cell_type": "code",
   "execution_count": null,
   "id": "0650c27b-c1d3-4acc-9d10-80520c3627e6",
   "metadata": {},
   "outputs": [],
   "source": []
  }
 ],
 "metadata": {
  "kernelspec": {
   "display_name": "Python 3 (ipykernel)",
   "language": "python",
   "name": "python3"
  },
  "language_info": {
   "codemirror_mode": {
    "name": "ipython",
    "version": 3
   },
   "file_extension": ".py",
   "mimetype": "text/x-python",
   "name": "python",
   "nbconvert_exporter": "python",
   "pygments_lexer": "ipython3",
   "version": "3.12.4"
  }
 },
 "nbformat": 4,
 "nbformat_minor": 5
}
